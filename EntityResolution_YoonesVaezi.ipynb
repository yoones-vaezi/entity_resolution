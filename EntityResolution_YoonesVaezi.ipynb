{
 "cells": [
  {
   "cell_type": "markdown",
   "metadata": {},
   "source": [
    "## Entity Resolution"
   ]
  },
  {
   "cell_type": "markdown",
   "metadata": {},
   "source": [
    "## Yoones Vaezi (yooens.vaezi@gmail.com)"
   ]
  },
  {
   "cell_type": "markdown",
   "metadata": {},
   "source": [
    "First we import some libraries"
   ]
  },
  {
   "cell_type": "code",
   "execution_count": 547,
   "metadata": {},
   "outputs": [],
   "source": [
    "import pandas as pd\n",
    "import re\n",
    "import os\n",
    "import string\n",
    "import numpy as np\n",
    "import seaborn as sns\n",
    "import matplotlib.pyplot as plt\n",
    "import matplotlib.ticker as ticker\n",
    "import spacy\n",
    "import recordlinkage\n",
    "from recordlinkage.index import SortedNeighbourhood\n",
    "from recordlinkage.base import BaseCompareFeature\n",
    "nlp = spacy.load(\"en_core_web_lg\")"
   ]
  },
  {
   "cell_type": "markdown",
   "metadata": {},
   "source": [
    "## Read the data"
   ]
  },
  {
   "cell_type": "markdown",
   "metadata": {},
   "source": [
    "Now we read in the two csv files for entity resolution task:"
   ]
  },
  {
   "cell_type": "code",
   "execution_count": 548,
   "metadata": {},
   "outputs": [],
   "source": [
    "DBLP = pd.read_csv(r'./data_files/DBLP.csv',encoding = \"ISO-8859-1\")\n",
    "Scholar = pd.read_csv(r'./data_files/Scholar.csv',encoding = \"ISO-8859-1\")"
   ]
  },
  {
   "cell_type": "markdown",
   "metadata": {},
   "source": [
    "## Explore the data"
   ]
  },
  {
   "cell_type": "markdown",
   "metadata": {},
   "source": [
    "we first check the number of records in each file:"
   ]
  },
  {
   "cell_type": "code",
   "execution_count": 549,
   "metadata": {},
   "outputs": [
    {
     "name": "stdout",
     "output_type": "stream",
     "text": [
      "DBLP dataframe has 2616 records\n",
      "Scholar dataframe has 64260 records\n"
     ]
    }
   ],
   "source": [
    "print(f\"DBLP dataframe has {DBLP.shape[0]} records\")\n",
    "print(f\"Scholar dataframe has {Scholar.shape[0]} records\")"
   ]
  },
  {
   "cell_type": "markdown",
   "metadata": {},
   "source": [
    "Let's have a look at the first few rows of each dataframe:"
   ]
  },
  {
   "cell_type": "code",
   "execution_count": 550,
   "metadata": {
    "scrolled": false
   },
   "outputs": [
    {
     "data": {
      "text/html": [
       "<div>\n",
       "<style scoped>\n",
       "    .dataframe tbody tr th:only-of-type {\n",
       "        vertical-align: middle;\n",
       "    }\n",
       "\n",
       "    .dataframe tbody tr th {\n",
       "        vertical-align: top;\n",
       "    }\n",
       "\n",
       "    .dataframe thead th {\n",
       "        text-align: right;\n",
       "    }\n",
       "</style>\n",
       "<table border=\"1\" class=\"dataframe\">\n",
       "  <thead>\n",
       "    <tr style=\"text-align: right;\">\n",
       "      <th></th>\n",
       "      <th>idDBLP</th>\n",
       "      <th>title</th>\n",
       "      <th>authors</th>\n",
       "      <th>venue</th>\n",
       "      <th>year</th>\n",
       "      <th>row_id</th>\n",
       "    </tr>\n",
       "  </thead>\n",
       "  <tbody>\n",
       "    <tr>\n",
       "      <th>0</th>\n",
       "      <td>conf/vldb/RusinkiewiczKTWM95</td>\n",
       "      <td>Towards a Cooperative Transaction Model - The ...</td>\n",
       "      <td>M Rusinkiewicz, W Klas, T Tesch, J W_sch, P Muth</td>\n",
       "      <td>VLDB</td>\n",
       "      <td>1995</td>\n",
       "      <td>1</td>\n",
       "    </tr>\n",
       "    <tr>\n",
       "      <th>1</th>\n",
       "      <td>journals/sigmod/EisenbergM02</td>\n",
       "      <td>SQL/XML is Making Good Progress</td>\n",
       "      <td>A Eisenberg, J Melton</td>\n",
       "      <td>SIGMOD Record</td>\n",
       "      <td>2002</td>\n",
       "      <td>2</td>\n",
       "    </tr>\n",
       "    <tr>\n",
       "      <th>2</th>\n",
       "      <td>conf/vldb/AmmannJR95</td>\n",
       "      <td>Using Formal Methods to Reason about Semantics...</td>\n",
       "      <td>P Ammann, S Jajodia, I Ray</td>\n",
       "      <td>VLDB</td>\n",
       "      <td>1995</td>\n",
       "      <td>3</td>\n",
       "    </tr>\n",
       "    <tr>\n",
       "      <th>3</th>\n",
       "      <td>journals/sigmod/Liu02</td>\n",
       "      <td>Editor's Notes</td>\n",
       "      <td>L Liu</td>\n",
       "      <td>SIGMOD Record</td>\n",
       "      <td>2002</td>\n",
       "      <td>4</td>\n",
       "    </tr>\n",
       "    <tr>\n",
       "      <th>4</th>\n",
       "      <td>journals/sigmod/Hammer02</td>\n",
       "      <td>Report on the ACM Fourth International Worksho...</td>\n",
       "      <td>NaN</td>\n",
       "      <td>NaN</td>\n",
       "      <td>2002</td>\n",
       "      <td>5</td>\n",
       "    </tr>\n",
       "    <tr>\n",
       "      <th>5</th>\n",
       "      <td>conf/vldb/FerrandinaMZFM95</td>\n",
       "      <td>Schema and Database Evolution in the O2 Object...</td>\n",
       "      <td>F Ferrandina, T Meyer, R Zicari, G Ferran, J M...</td>\n",
       "      <td>VLDB</td>\n",
       "      <td>1995</td>\n",
       "      <td>6</td>\n",
       "    </tr>\n",
       "    <tr>\n",
       "      <th>6</th>\n",
       "      <td>conf/vldb/SubietaKL95</td>\n",
       "      <td>Procedures in Object-Oriented Query Languages</td>\n",
       "      <td>K Subieta, Y Kambayashi, J Leszczylowski</td>\n",
       "      <td>VLDB</td>\n",
       "      <td>1995</td>\n",
       "      <td>7</td>\n",
       "    </tr>\n",
       "    <tr>\n",
       "      <th>7</th>\n",
       "      <td>journals/sigmod/BargaL02</td>\n",
       "      <td>Phoenix Project: Fault-Tolerant Applications</td>\n",
       "      <td>R Barga, D Lomet</td>\n",
       "      <td>SIGMOD Record</td>\n",
       "      <td>2002</td>\n",
       "      <td>8</td>\n",
       "    </tr>\n",
       "    <tr>\n",
       "      <th>8</th>\n",
       "      <td>journals/sigmod/Ouksel02</td>\n",
       "      <td>Mining the World Wide Web: An Information Sear...</td>\n",
       "      <td>NaN</td>\n",
       "      <td>NaN</td>\n",
       "      <td>2002</td>\n",
       "      <td>9</td>\n",
       "    </tr>\n",
       "    <tr>\n",
       "      <th>9</th>\n",
       "      <td>conf/vldb/MoserKK95</td>\n",
       "      <td>L/MRP: A Buffer Management Strategy for Intera...</td>\n",
       "      <td>F Moser, A Kraiss, W Klas</td>\n",
       "      <td>VLDB</td>\n",
       "      <td>1995</td>\n",
       "      <td>10</td>\n",
       "    </tr>\n",
       "  </tbody>\n",
       "</table>\n",
       "</div>"
      ],
      "text/plain": [
       "                         idDBLP  \\\n",
       "0  conf/vldb/RusinkiewiczKTWM95   \n",
       "1  journals/sigmod/EisenbergM02   \n",
       "2          conf/vldb/AmmannJR95   \n",
       "3         journals/sigmod/Liu02   \n",
       "4      journals/sigmod/Hammer02   \n",
       "5    conf/vldb/FerrandinaMZFM95   \n",
       "6         conf/vldb/SubietaKL95   \n",
       "7      journals/sigmod/BargaL02   \n",
       "8      journals/sigmod/Ouksel02   \n",
       "9           conf/vldb/MoserKK95   \n",
       "\n",
       "                                               title  \\\n",
       "0  Towards a Cooperative Transaction Model - The ...   \n",
       "1                    SQL/XML is Making Good Progress   \n",
       "2  Using Formal Methods to Reason about Semantics...   \n",
       "3                                     Editor's Notes   \n",
       "4  Report on the ACM Fourth International Worksho...   \n",
       "5  Schema and Database Evolution in the O2 Object...   \n",
       "6      Procedures in Object-Oriented Query Languages   \n",
       "7       Phoenix Project: Fault-Tolerant Applications   \n",
       "8  Mining the World Wide Web: An Information Sear...   \n",
       "9  L/MRP: A Buffer Management Strategy for Intera...   \n",
       "\n",
       "                                             authors          venue  year  \\\n",
       "0   M Rusinkiewicz, W Klas, T Tesch, J W_sch, P Muth           VLDB  1995   \n",
       "1                              A Eisenberg, J Melton  SIGMOD Record  2002   \n",
       "2                         P Ammann, S Jajodia, I Ray           VLDB  1995   \n",
       "3                                              L Liu  SIGMOD Record  2002   \n",
       "4                                                NaN            NaN  2002   \n",
       "5  F Ferrandina, T Meyer, R Zicari, G Ferran, J M...           VLDB  1995   \n",
       "6           K Subieta, Y Kambayashi, J Leszczylowski           VLDB  1995   \n",
       "7                                   R Barga, D Lomet  SIGMOD Record  2002   \n",
       "8                                                NaN            NaN  2002   \n",
       "9                          F Moser, A Kraiss, W Klas           VLDB  1995   \n",
       "\n",
       "   row_id  \n",
       "0       1  \n",
       "1       2  \n",
       "2       3  \n",
       "3       4  \n",
       "4       5  \n",
       "5       6  \n",
       "6       7  \n",
       "7       8  \n",
       "8       9  \n",
       "9      10  "
      ]
     },
     "execution_count": 550,
     "metadata": {},
     "output_type": "execute_result"
    }
   ],
   "source": [
    "DBLP.head(10)"
   ]
  },
  {
   "cell_type": "code",
   "execution_count": 551,
   "metadata": {
    "scrolled": false
   },
   "outputs": [
    {
     "data": {
      "text/html": [
       "<div>\n",
       "<style scoped>\n",
       "    .dataframe tbody tr th:only-of-type {\n",
       "        vertical-align: middle;\n",
       "    }\n",
       "\n",
       "    .dataframe tbody tr th {\n",
       "        vertical-align: top;\n",
       "    }\n",
       "\n",
       "    .dataframe thead th {\n",
       "        text-align: right;\n",
       "    }\n",
       "</style>\n",
       "<table border=\"1\" class=\"dataframe\">\n",
       "  <thead>\n",
       "    <tr style=\"text-align: right;\">\n",
       "      <th></th>\n",
       "      <th>idScholar</th>\n",
       "      <th>title</th>\n",
       "      <th>authors</th>\n",
       "      <th>venue</th>\n",
       "      <th>year</th>\n",
       "      <th>row_id</th>\n",
       "    </tr>\n",
       "  </thead>\n",
       "  <tbody>\n",
       "    <tr>\n",
       "      <th>0</th>\n",
       "      <td>aKcZKwvwbQwJ</td>\n",
       "      <td>11578 Sorrento Valley Road</td>\n",
       "      <td>QD Inc</td>\n",
       "      <td>San Diego,</td>\n",
       "      <td>NaN</td>\n",
       "      <td>1</td>\n",
       "    </tr>\n",
       "    <tr>\n",
       "      <th>1</th>\n",
       "      <td>ixKfiTHoaDoJ</td>\n",
       "      <td>Initiation of crazes in polystyrene</td>\n",
       "      <td>AS Argon, JG Hannoosh</td>\n",
       "      <td>Phil. Mag,</td>\n",
       "      <td>NaN</td>\n",
       "      <td>2</td>\n",
       "    </tr>\n",
       "    <tr>\n",
       "      <th>2</th>\n",
       "      <td>3BxllB4wwcIJ</td>\n",
       "      <td>Immunogold labelling is a quantitative method ...</td>\n",
       "      <td>GH Hansen, LL Wetterberg, H SjÍ_strÍ_m, O ...</td>\n",
       "      <td>The Histochemical Journal,</td>\n",
       "      <td>1992.0</td>\n",
       "      <td>3</td>\n",
       "    </tr>\n",
       "    <tr>\n",
       "      <th>3</th>\n",
       "      <td>d2WWxwKMex4J</td>\n",
       "      <td>The Burden of Infectious Disease Among Inmates...</td>\n",
       "      <td>TM Hammett, P Harmon, W Rhodes</td>\n",
       "      <td>see</td>\n",
       "      <td>NaN</td>\n",
       "      <td>4</td>\n",
       "    </tr>\n",
       "    <tr>\n",
       "      <th>4</th>\n",
       "      <td>cZCX-AQpjccJ</td>\n",
       "      <td>The Role of Faculty Advising in Science and En...</td>\n",
       "      <td>JR Cogdell</td>\n",
       "      <td>NEW DIRECTIONS FOR TEACHING AND LEARNING,</td>\n",
       "      <td>1995.0</td>\n",
       "      <td>5</td>\n",
       "    </tr>\n",
       "    <tr>\n",
       "      <th>5</th>\n",
       "      <td>DMhfVNSDYD4J</td>\n",
       "      <td>The zero multiplicity of linear recurrence seq...</td>\n",
       "      <td>WM Schmidt</td>\n",
       "      <td>to</td>\n",
       "      <td>NaN</td>\n",
       "      <td>6</td>\n",
       "    </tr>\n",
       "    <tr>\n",
       "      <th>6</th>\n",
       "      <td>97wRWOpnANkJ</td>\n",
       "      <td>PREDICITVE VALIDITY OF KINDERGARTEN SCREENERS ...</td>\n",
       "      <td>RA Haats</td>\n",
       "      <td>NaN</td>\n",
       "      <td>2002.0</td>\n",
       "      <td>7</td>\n",
       "    </tr>\n",
       "    <tr>\n",
       "      <th>7</th>\n",
       "      <td>xSv97kdDZU8J</td>\n",
       "      <td>The Photosynthetic Reaction Center</td>\n",
       "      <td>JR Norris, J Deisenhofer</td>\n",
       "      <td>San Diego: Academic,</td>\n",
       "      <td>NaN</td>\n",
       "      <td>8</td>\n",
       "    </tr>\n",
       "    <tr>\n",
       "      <th>8</th>\n",
       "      <td>vj0-A5RoktIJ</td>\n",
       "      <td>F., Diene, AW, Ndiaye, Y. Hachage linÍ©aire ...</td>\n",
       "      <td>F Bennour</td>\n",
       "      <td>Res. Rep. CERIA, U. Paris,</td>\n",
       "      <td>NaN</td>\n",
       "      <td>9</td>\n",
       "    </tr>\n",
       "    <tr>\n",
       "      <th>9</th>\n",
       "      <td>6TKMB5gO9EoJ</td>\n",
       "      <td>Multidimensional similarity structure analysis</td>\n",
       "      <td>I Borg, JC Lingoes</td>\n",
       "      <td>NaN</td>\n",
       "      <td>1987.0</td>\n",
       "      <td>10</td>\n",
       "    </tr>\n",
       "  </tbody>\n",
       "</table>\n",
       "</div>"
      ],
      "text/plain": [
       "      idScholar                                              title  \\\n",
       "0  aKcZKwvwbQwJ                         11578 Sorrento Valley Road   \n",
       "1  ixKfiTHoaDoJ                Initiation of crazes in polystyrene   \n",
       "2  3BxllB4wwcIJ  Immunogold labelling is a quantitative method ...   \n",
       "3  d2WWxwKMex4J  The Burden of Infectious Disease Among Inmates...   \n",
       "4  cZCX-AQpjccJ  The Role of Faculty Advising in Science and En...   \n",
       "5  DMhfVNSDYD4J  The zero multiplicity of linear recurrence seq...   \n",
       "6  97wRWOpnANkJ  PREDICITVE VALIDITY OF KINDERGARTEN SCREENERS ...   \n",
       "7  xSv97kdDZU8J                 The Photosynthetic Reaction Center   \n",
       "8  vj0-A5RoktIJ  F., Diene, AW, Ndiaye, Y. Hachage linÍ©aire ...   \n",
       "9  6TKMB5gO9EoJ     Multidimensional similarity structure analysis   \n",
       "\n",
       "                                             authors  \\\n",
       "0                                             QD Inc   \n",
       "1                              AS Argon, JG Hannoosh   \n",
       "2  GH Hansen, LL Wetterberg, H SjÍ_strÍ_m, O ...   \n",
       "3                     TM Hammett, P Harmon, W Rhodes   \n",
       "4                                         JR Cogdell   \n",
       "5                                         WM Schmidt   \n",
       "6                                           RA Haats   \n",
       "7                           JR Norris, J Deisenhofer   \n",
       "8                                          F Bennour   \n",
       "9                                 I Borg, JC Lingoes   \n",
       "\n",
       "                                       venue    year  row_id  \n",
       "0                                 San Diego,     NaN       1  \n",
       "1                                 Phil. Mag,     NaN       2  \n",
       "2                 The Histochemical Journal,  1992.0       3  \n",
       "3                                        see     NaN       4  \n",
       "4  NEW DIRECTIONS FOR TEACHING AND LEARNING,  1995.0       5  \n",
       "5                                         to     NaN       6  \n",
       "6                                        NaN  2002.0       7  \n",
       "7                       San Diego: Academic,     NaN       8  \n",
       "8                 Res. Rep. CERIA, U. Paris,     NaN       9  \n",
       "9                                        NaN  1987.0      10  "
      ]
     },
     "execution_count": 551,
     "metadata": {},
     "output_type": "execute_result"
    }
   ],
   "source": [
    "Scholar.head(10)"
   ]
  },
  {
   "cell_type": "markdown",
   "metadata": {},
   "source": [
    "There seems to exist some NaN values in both dataframes. Let's first check how many of them we have in each:"
   ]
  },
  {
   "cell_type": "code",
   "execution_count": 552,
   "metadata": {
    "scrolled": true
   },
   "outputs": [
    {
     "name": "stdout",
     "output_type": "stream",
     "text": [
      "Number of NaN values in each column of DBLP dataframe: \n"
     ]
    },
    {
     "data": {
      "text/plain": [
       "idDBLP       0\n",
       "title        0\n",
       "authors    218\n",
       "venue      211\n",
       "year         0\n",
       "row_id       0\n",
       "dtype: int64"
      ]
     },
     "execution_count": 552,
     "metadata": {},
     "output_type": "execute_result"
    }
   ],
   "source": [
    "print('Number of NaN values in each column of DBLP dataframe: ')\n",
    "DBLP.isnull().sum(axis = 0)"
   ]
  },
  {
   "cell_type": "code",
   "execution_count": 553,
   "metadata": {
    "scrolled": true
   },
   "outputs": [
    {
     "name": "stdout",
     "output_type": "stream",
     "text": [
      "Number of NaN values in each column of Scholar dataframe: \n"
     ]
    },
    {
     "data": {
      "text/plain": [
       "idScholar        0\n",
       "title            0\n",
       "authors          1\n",
       "venue        14997\n",
       "year         34789\n",
       "row_id           0\n",
       "dtype: int64"
      ]
     },
     "execution_count": 553,
     "metadata": {},
     "output_type": "execute_result"
    }
   ],
   "source": [
    "print('Number of NaN values in each column of Scholar dataframe: ')\n",
    "Scholar.isnull().sum(axis = 0)"
   ]
  },
  {
   "cell_type": "markdown",
   "metadata": {},
   "source": [
    "There seems to not exiast any NaN values for the identifier, title, and row_id in both files. Almost 8% of the records do not have an author name and venue name in the DBLP data. Even though Scholar data has only one missing authors name, it however, misses 23% of the venue information and 54% of the year column. \n",
    "* This means that the title column should be the main refernece point for matching these two dataframes. This makes sense, as two publications that are deemed the same should have high degree of similarity in their titles, with minor differences. \n",
    "* Even though some of the entries for the author column are missing in the DBLP data, this column seems to be consistent among the two data in terms of its template (first name initial, last name). Therefore, we can use this as a second referenvce point for comparison when it exists in both data.\n",
    "* The year column (as shown below) in the Scholar data seems to suffer from a lot of mistakes and is also missing in 23% of the times. Therefore it is not here considered as a criteria for comparison here. \n",
    "* There is a lot of missing values for the venue column of Scholar data. Also some are missing in the DBLP data. However, we can use this column as another matching criteria when they exist in both data. "
   ]
  },
  {
   "cell_type": "markdown",
   "metadata": {},
   "source": [
    "The columns \"idDBLP\" and \"idScholar\" are the unique publication identifiers. We need to ensure there is no duplicated identifiers for each dataframe and these identifiers are meaningful. For this, we ensure there is no empty, NAN values, and duplicates in the id columns. We have already seen that there are no NaN values in the identifiers. Let's check the duplicates:"
   ]
  },
  {
   "cell_type": "code",
   "execution_count": 554,
   "metadata": {},
   "outputs": [
    {
     "data": {
      "text/plain": [
       "Series([], Name: idDBLP, dtype: object)"
      ]
     },
     "execution_count": 554,
     "metadata": {},
     "output_type": "execute_result"
    }
   ],
   "source": [
    "duplicateIds_DBLP = DBLP[DBLP.duplicated(['idDBLP'])]\n",
    "duplicateIds_DBLP['idDBLP']"
   ]
  },
  {
   "cell_type": "code",
   "execution_count": 555,
   "metadata": {
    "scrolled": true
   },
   "outputs": [
    {
     "data": {
      "text/plain": [
       "463       \n",
       "553       \n",
       "613       \n",
       "744       \n",
       "873       \n",
       "        ..\n",
       "63668     \n",
       "63893     \n",
       "64021     \n",
       "64081     \n",
       "64164     \n",
       "Name: idScholar, Length: 762, dtype: object"
      ]
     },
     "execution_count": 555,
     "metadata": {},
     "output_type": "execute_result"
    }
   ],
   "source": [
    "duplicateIds_Scholar = Scholar[Scholar.duplicated(['idScholar'])]\n",
    "duplicateIds_Scholar['idScholar']"
   ]
  },
  {
   "cell_type": "markdown",
   "metadata": {},
   "source": [
    "There are 752 rows in Scholar dataset that have no unique identifiers. To ensure there is no records with missing identifier, we drop (remove) such records from both datasets."
   ]
  },
  {
   "cell_type": "code",
   "execution_count": 556,
   "metadata": {},
   "outputs": [],
   "source": [
    "def removeBadIds(df,id_cols):\n",
    "    ''' Removes the rows where publication identifier is missing\n",
    "    df: input data frame\n",
    "    id_col: the column name list \n",
    "    \n",
    "    output\n",
    "    dataframe with no missing identifiers'''\n",
    "    df1= df.copy()\n",
    "    for icol in id_cols:\n",
    "        df1[icol] = df1[icol].replace(r'^\\s*$', np.nan, regex=True)\n",
    "        df1 = (df1.dropna(subset=[icol]))\n",
    "    return df1"
   ]
  },
  {
   "cell_type": "code",
   "execution_count": 557,
   "metadata": {},
   "outputs": [],
   "source": [
    "DBLP = removeBadIds(DBLP,['idDBLP'])\n",
    "Scholar = removeBadIds(Scholar,['idScholar'])"
   ]
  },
  {
   "cell_type": "markdown",
   "metadata": {},
   "source": [
    "Let's ensure this has removed the non-unique empty identifiers."
   ]
  },
  {
   "cell_type": "code",
   "execution_count": 558,
   "metadata": {},
   "outputs": [
    {
     "data": {
      "text/plain": [
       "Series([], Name: idScholar, dtype: object)"
      ]
     },
     "execution_count": 558,
     "metadata": {},
     "output_type": "execute_result"
    }
   ],
   "source": [
    "Scholar[Scholar.duplicated(['idScholar'])]['idScholar']"
   ]
  },
  {
   "cell_type": "markdown",
   "metadata": {},
   "source": [
    "Great! there is no recors with missing identifier in the data now."
   ]
  },
  {
   "cell_type": "markdown",
   "metadata": {},
   "source": [
    "Let's also explore the year column in both datasets: "
   ]
  },
  {
   "cell_type": "code",
   "execution_count": 559,
   "metadata": {
    "scrolled": true
   },
   "outputs": [
    {
     "data": {
      "text/plain": [
       "Text(0.5, 1.0, 'publiction year for DBLP')"
      ]
     },
     "execution_count": 559,
     "metadata": {},
     "output_type": "execute_result"
    },
    {
     "data": {
      "image/png": "[encoded data removed]",
      "text/plain": [
       "<Figure size 432x288 with 1 Axes>"
      ]
     },
     "metadata": {
      "needs_background": "light"
     },
     "output_type": "display_data"
    }
   ],
   "source": [
    "ax = sns.countplot(x=\"year\", data=DBLP)\n",
    "ax.set_title('publiction year for DBLP')"
   ]
  },
  {
   "cell_type": "markdown",
   "metadata": {},
   "source": [
    "The DBLP data contains 10 unique publication years, from 1994 through 2003. We assume that these values are valid."
   ]
  },
  {
   "cell_type": "code",
   "execution_count": 560,
   "metadata": {
    "scrolled": true
   },
   "outputs": [
    {
     "data": {
      "image/png": "[encoded data removed]",
      "text/plain": [
       "<Figure size 432x288 with 1 Axes>"
      ]
     },
     "metadata": {
      "needs_background": "light"
     },
     "output_type": "display_data"
    }
   ],
   "source": [
    "ax = sns.countplot(x=\"year\", data=Scholar)\n",
    "ax.set_title('publiction year for Scholar')\n",
    "ax.set_xticklabels(ax.get_xticklabels(), rotation=30)\n",
    "for ind, label in enumerate(ax.get_xticklabels()):\n",
    "    if ind % 10 == 0:  # every 10th label is kept\n",
    "        label.set_visible(True)\n",
    "    else:\n",
    "        label.set_visible(False)"
   ]
  },
  {
   "cell_type": "code",
   "execution_count": 561,
   "metadata": {},
   "outputs": [
    {
     "name": "stdout",
     "output_type": "stream",
     "text": [
      "11.0 2730.0\n"
     ]
    }
   ],
   "source": [
    "print(Scholar['year'].min(),Scholar['year'].max())"
   ]
  },
  {
   "cell_type": "code",
   "execution_count": 562,
   "metadata": {
    "scrolled": true
   },
   "outputs": [
    {
     "data": {
      "text/plain": [
       "Text(0, 0.5, 'year')"
      ]
     },
     "execution_count": 562,
     "metadata": {},
     "output_type": "execute_result"
    },
    {
     "data": {
      "image/png": "[encoded data removed]",
      "text/plain": [
       "<Figure size 432x288 with 1 Axes>"
      ]
     },
     "metadata": {
      "needs_background": "light"
     },
     "output_type": "display_data"
    }
   ],
   "source": [
    "plt.scatter(range(Scholar.year.shape[0]),Scholar.year)\n",
    "plt.title('year in Scholar')\n",
    "plt.xlabel('record number')\n",
    "plt.ylabel('year')"
   ]
  },
  {
   "cell_type": "markdown",
   "metadata": {},
   "source": [
    "There are anomalously small and large values in the publication year of Scholar dataset. We assume that any value above 2021 and below 1750 are invalid and we set them to NaN."
   ]
  },
  {
   "cell_type": "code",
   "execution_count": 563,
   "metadata": {
    "scrolled": true
   },
   "outputs": [
    {
     "data": {
      "text/plain": [
       "Text(0.5, 0, 'year in Scholar')"
      ]
     },
     "execution_count": 563,
     "metadata": {},
     "output_type": "execute_result"
    },
    {
     "data": {
      "image/png": "[encoded data removed]",
      "text/plain": [
       "<Figure size 432x288 with 1 Axes>"
      ]
     },
     "metadata": {
      "needs_background": "light"
     },
     "output_type": "display_data"
    }
   ],
   "source": [
    "ax = sns.boxplot(x=Scholar[\"year\"])\n",
    "ax.set_xlim([1700,2020])\n",
    "plt.xlabel('year in Scholar')"
   ]
  },
  {
   "cell_type": "code",
   "execution_count": 564,
   "metadata": {},
   "outputs": [],
   "source": [
    "def cleanYear(df,year_col,min_val,max_val):\n",
    "    ''' Replaces invalid publication years to np.nan\n",
    "    df: input data frame\n",
    "    year_col: the column name for the publication year\n",
    "    min_val,max_val: min and max allowable publication year\n",
    "    \n",
    "    output\n",
    "    dataframe with publication years outside the allowable range set to np.nan'''\n",
    "    df1 = df.copy()\n",
    "    df1.loc[(df1[year_col]<min_val) | (df1[year_col]>max_val),year_col]=np.nan\n",
    "    return df1"
   ]
  },
  {
   "cell_type": "code",
   "execution_count": 565,
   "metadata": {},
   "outputs": [],
   "source": [
    "DBLP = cleanYear(DBLP,'year',1750,2021)\n",
    "Scholar = cleanYear(Scholar,'year',1750,2021)"
   ]
  },
  {
   "cell_type": "code",
   "execution_count": 566,
   "metadata": {},
   "outputs": [
    {
     "name": "stdout",
     "output_type": "stream",
     "text": [
      "1750.0 2006.0\n"
     ]
    }
   ],
   "source": [
    "print(Scholar['year'].min(),Scholar['year'].max())"
   ]
  },
  {
   "cell_type": "markdown",
   "metadata": {},
   "source": [
    "Now the publication year for the Scholars data ranges between 1750 to 2006. "
   ]
  },
  {
   "cell_type": "markdown",
   "metadata": {},
   "source": [
    "Let's check the data types in the two data sets ensuring they are consistent:\n"
   ]
  },
  {
   "cell_type": "code",
   "execution_count": 567,
   "metadata": {
    "scrolled": true
   },
   "outputs": [
    {
     "data": {
      "text/plain": [
       "idDBLP      object\n",
       "title       object\n",
       "authors     object\n",
       "venue       object\n",
       "year       float64\n",
       "row_id       int64\n",
       "dtype: object"
      ]
     },
     "execution_count": 567,
     "metadata": {},
     "output_type": "execute_result"
    }
   ],
   "source": [
    "DBLP.dtypes"
   ]
  },
  {
   "cell_type": "code",
   "execution_count": 568,
   "metadata": {
    "scrolled": true
   },
   "outputs": [
    {
     "data": {
      "text/plain": [
       "idScholar     object\n",
       "title         object\n",
       "authors       object\n",
       "venue         object\n",
       "year         float64\n",
       "row_id         int64\n",
       "dtype: object"
      ]
     },
     "execution_count": 568,
     "metadata": {},
     "output_type": "execute_result"
    }
   ],
   "source": [
    "Scholar.dtypes"
   ]
  },
  {
   "cell_type": "markdown",
   "metadata": {},
   "source": [
    "They seem to match. Great!"
   ]
  },
  {
   "cell_type": "markdown",
   "metadata": {},
   "source": [
    "Let's also check the venue columns in the two datasets. "
   ]
  },
  {
   "cell_type": "code",
   "execution_count": 569,
   "metadata": {
    "scrolled": true
   },
   "outputs": [
    {
     "data": {
      "text/plain": [
       "VLDB                         861\n",
       "SIGMOD Conference            771\n",
       "SIGMOD Record                449\n",
       "VLDB J.                      191\n",
       "ACM Trans. Database Syst.    132\n",
       "ecord                          1\n",
       "Name: venue, dtype: int64"
      ]
     },
     "execution_count": 569,
     "metadata": {},
     "output_type": "execute_result"
    }
   ],
   "source": [
    "DBLP['venue'].value_counts()"
   ]
  },
  {
   "cell_type": "code",
   "execution_count": 570,
   "metadata": {
    "scrolled": true
   },
   "outputs": [
    {
     "data": {
      "text/plain": [
       "LECTURE NOTES IN COMPUTER SCIENCE,                                    957\n",
       "Cochrane Database Syst Rev,                                           902\n",
       "New Directions for Higher Education,                                  885\n",
       "Phil. Mag,                                                            817\n",
       "Computer Networks,                                                    789\n",
       "                                                                     ... \n",
       "Proc. ACM SIGMOD, Portland                                              1\n",
       "&hellip;  of the 1985 VLDB Conference, Stockholm. Sweden, August,       1\n",
       "ACM TOG,                                                                1\n",
       "Proc. 29th Annual Allerton Conference on Communication,  &hellip;,      1\n",
       "Proceedings of the 1998 ACM-SIGMOD International Conference             1\n",
       "Name: venue, Length: 12428, dtype: int64"
      ]
     },
     "execution_count": 570,
     "metadata": {},
     "output_type": "execute_result"
    }
   ],
   "source": [
    "Scholar['venue'].value_counts()"
   ]
  },
  {
   "cell_type": "markdown",
   "metadata": {},
   "source": [
    "There seems to be only 6 unique types of venues in DBLP dataset, while, there are 12428 unique venues in the Scolar dataset. The DBLP venues seem to be listed in an abbreviated way while Scholar venues are listed in a longer version. Even though there are a lot of venues missing from both datsets, the string (substring) matching can be used to match up records in the two datasets, when both are valid (not NaN).\n",
    "Both of these columns, specially in Scholar dataset, require text cleaning, which is explained below."
   ]
  },
  {
   "cell_type": "markdown",
   "metadata": {},
   "source": [
    "## Text cleaning"
   ]
  },
  {
   "cell_type": "markdown",
   "metadata": {},
   "source": [
    "As the title and author columns (and also (venue) are the main features for matching criteria and they are string features, we now focus on cleaning these columns in the two datasets. Text cleaning for these columns includes:\n",
    "* removing heading and trailing spaces/tabs \n",
    "* removing special characters and keeping only alphanumeric strings\n",
    "* replacing & with 'and' and replacing multiple spaces/tabs with one space \n",
    "* removing stopwords\n",
    "* removing punctuations\n",
    "* Removing pronouns for reducing their dominance on word embeddings\n",
    "* lemmetizing tokens to reduce them to their base form\n",
    "\n",
    "The Spacy library is used for vectorizing sentences and tokens. We use the \"en_core_web_lg\" trained pipelines for English in Spacy to vectorize tokens."
   ]
  },
  {
   "cell_type": "code",
   "execution_count": 571,
   "metadata": {},
   "outputs": [],
   "source": []
  },
  {
   "cell_type": "code",
   "execution_count": 572,
   "metadata": {},
   "outputs": [],
   "source": [
    "def text_cleaner(text):\n",
    "    ''' Given a text, returns cleaned version of it by lowercasing it, removing special characters, \n",
    "    stopwords, pronouns, and spaces\n",
    "    text: input text\n",
    "        \n",
    "    output\n",
    "    cleaned text'''\n",
    "    text = str(text)\n",
    "    # Removing spaces and bad symbols and converting text into lowercase\n",
    "    text = text.strip().lower() \n",
    "    # remove special characters\n",
    "    REPLACE_BY_SPACE_RE = re.compile('[()\\\\\\\\{/}\\[\\]\\|@,:;\\-<>_.\\'\\\"?!#$%^\"~+`]')\n",
    "    text = REPLACE_BY_SPACE_RE.sub(' ', text)\n",
    "    # keeping alphanumeric entries only\n",
    "    BAD_SYMBOLS_RE = re.compile('[^\\w\\s]')\n",
    "    text = BAD_SYMBOLS_RE.sub('', text) \n",
    "    # replacing & with and\n",
    "    text = re.sub('&', ' and ', text)\n",
    "    #replace \n",
    "    text = re.sub('\\s+',' ',text)\n",
    "    text = text.strip()\n",
    "    # use Spacy trained pipeline to vectorize tokens and use them to remove stop words, pronouns, and also lemmatize\n",
    "    doc = nlp(text)\n",
    "    result = []\n",
    "    for token in doc:\n",
    "        if token.text in nlp.Defaults.stop_words:\n",
    "            continue\n",
    "        if token.is_punct:\n",
    "            continue\n",
    "        if token.lemma_ == '-PRON-':\n",
    "            continue\n",
    "        result.append(str(token.lemma_).strip())\n",
    "    out = \" \".join(result)\n",
    "    out = re.sub('\\s+',' ',out) \n",
    "    if out=='' or out==' ':\n",
    "        out = np.nan\n",
    "    return out"
   ]
  },
  {
   "cell_type": "markdown",
   "metadata": {},
   "source": [
    "Now let's use this function to clean up the string columns of interest:"
   ]
  },
  {
   "cell_type": "code",
   "execution_count": 573,
   "metadata": {},
   "outputs": [],
   "source": [
    "def cleanTextInDF(df,column_list):\n",
    "    ''' Cleans given string columns of a dataframe using the text_cleaner function\n",
    "    df: input data frame\n",
    "    column_list: list of string columns to clean\n",
    "        \n",
    "    output\n",
    "    dataframe with cleaned columns with _cleaneded to their names'''\n",
    "    df1 = df.copy()\n",
    "    for aCol in column_list:\n",
    "        new_col_name = aCol+'_cleaned'\n",
    "        df1[new_col_name] = df1[aCol].apply(lambda x:text_cleaner(x))\n",
    "    return df1"
   ]
  },
  {
   "cell_type": "code",
   "execution_count": 574,
   "metadata": {},
   "outputs": [],
   "source": [
    "DBLP_cleaned = cleanTextInDF(DBLP,['title','authors','venue'])\n",
    "Scholar_cleaned = cleanTextInDF(Scholar,['title','authors','venue'])"
   ]
  },
  {
   "cell_type": "markdown",
   "metadata": {},
   "source": [
    "Now let's see an example of how the string columns look like after cleaning. Below we are shoiwng a random string cell in the Scholar dataset before and after cleaning. The cleaning is doingh a great job of what is intended for:"
   ]
  },
  {
   "cell_type": "code",
   "execution_count": 575,
   "metadata": {
    "scrolled": true
   },
   "outputs": [
    {
     "name": "stdout",
     "output_type": "stream",
     "text": [
      "String before cleaning: A University-Industry Association Model for Curriculum Enhancement.\n",
      "String after cleaning: university industry association model curriculum enhancement\n"
     ]
    }
   ],
   "source": [
    "print(f\"String before cleaning: {Scholar.loc[300,'title']}\")\n",
    "print(f\"String after cleaning: {Scholar_cleaned.loc[300,'title_cleaned']}\")"
   ]
  },
  {
   "cell_type": "markdown",
   "metadata": {},
   "source": [
    "## Record linkage "
   ]
  },
  {
   "cell_type": "markdown",
   "metadata": {},
   "source": [
    "Now that we have cleaned the datasets, we proceed with data matching. We divide this two three different steps:\n",
    "\n",
    "* Blocking (indexing) stage\n",
    "* Comparison stage\n",
    "* Matching stage\n",
    "\n",
    "The indexing module is used to make pairs of records. These pairs are called candidate links or candidate matches. Note that by blocking we mean to block a tuple pair from going through to the comparison step. When applied to a tuple pair, a blocker returns True if the pair should be blocked. There are several indexing algorithms available such as blocking and sorted neighborhood indexing. We use the sorted neighborhood indexing approach provided in the Python Record Linkage Toolkit: https://recordlinkage.readthedocs.io/en/latest/index.html. According to its tutorial: \"This algorithm returns record pairs that agree on the sorting key, but also records pairs in their neighbourhood. A large window size results in more record pairs. A window size of 1 returns the blocking index. The Sorted Neighbourhood Index method is a great method when there is relatively large amount of spelling mistakes. Blocking will fail in that situation because it excludes to many records on minor spelling mistakes.\" \n",
    "\n",
    "In the comparison stage, a set of informative, discriminating and independent features is important for a good classification of record pairs into matching and distinct pairs. In Python Record Linkage Toolkit, recordlinkage.Compare class and its methods can be used to compare records pairs. Several comparison methods are included such as string similarity measures, numerical measures and distance measures. Here we only use the framework of this library to define blocking but generally define our own comparison classes. We only use the \"numeric\" comparison capability of the Compare class of this toolkit. \n",
    "\n",
    "Finally, in the matching stage, once we have defined and run the comparison part, we set thresholds on the calculated comparison features to classify the records into matchin and non-matching classes. "
   ]
  },
  {
   "cell_type": "markdown",
   "metadata": {},
   "source": [
    "### 1- Blocking stage: Obtain candidate links"
   ]
  },
  {
   "cell_type": "markdown",
   "metadata": {},
   "source": [
    "One way to perform comparison and matching is to compare every single record pair in the two datasets. But this will result in a large amount of unnecessary calculation if there are too many clearly unmatching pairs. Therefore instead of considering all combination of recors (full blocking), we use the fact the fact that the title and author name of the articles are going to be two important features for deciding whether two entries are the same. Therefore, we decided to use the sorted neighborhood indexing approach in the Python Record Linkage Toolkit to limit the amount of candidate pairs for linking. "
   ]
  },
  {
   "cell_type": "markdown",
   "metadata": {},
   "source": [
    "First, we set the publication identifier as the index of the datasets:"
   ]
  },
  {
   "cell_type": "code",
   "execution_count": 576,
   "metadata": {},
   "outputs": [],
   "source": [
    "DBLP_cleaned_reindexed = DBLP_cleaned.set_index('idDBLP')\n",
    "Scholar_cleaned_reindexed = Scholar_cleaned.set_index('idScholar')"
   ]
  },
  {
   "cell_type": "markdown",
   "metadata": {},
   "source": [
    "We now calculate candidate links by indexing (blocking) pairs via performed using cleansed title and author fields:"
   ]
  },
  {
   "cell_type": "code",
   "execution_count": 577,
   "metadata": {},
   "outputs": [],
   "source": [
    "def createCandidateLinks(df1,df2,window=3):\n",
    "    ''' Creates candidate links using blocking (sorted neighbourhood approach) \n",
    "    df1 and df2: input data frames\n",
    "    window: window size\n",
    "        \n",
    "    output:\n",
    "    candidate link tuple pairs'''\n",
    "    indexer = recordlinkage.Index()\n",
    "    indexer.add(SortedNeighbourhood(left_on='title_cleaned', right_on='title_cleaned', window=window))\n",
    "    indexer.add(SortedNeighbourhood(left_on='authors_cleaned', right_on='authors_cleaned', window=window))\n",
    "    candidate_links = indexer.index(df1, df2)\n",
    "    return candidate_links"
   ]
  },
  {
   "cell_type": "code",
   "execution_count": 578,
   "metadata": {},
   "outputs": [
    {
     "name": "stdout",
     "output_type": "stream",
     "text": [
      "16945\n"
     ]
    }
   ],
   "source": [
    "candidate_links = createCandidateLinks(DBLP_cleaned_reindexed,Scholar_cleaned_reindexed,window=3)\n",
    "print(len(candidate_links))"
   ]
  },
  {
   "cell_type": "code",
   "execution_count": 579,
   "metadata": {},
   "outputs": [
    {
     "data": {
      "text/plain": [
       "166108152"
      ]
     },
     "execution_count": 579,
     "metadata": {},
     "output_type": "execute_result"
    }
   ],
   "source": [
    "DBLP_cleaned_reindexed.shape[0]*Scholar_cleaned_reindexed.shape[0]"
   ]
  },
  {
   "cell_type": "markdown",
   "metadata": {},
   "source": [
    "Using the blocking method, we have reduced the number of possible candidates from 166108152 (the product of record sizes of the two datasets) to only 16945. This is going to greatly speed up the comparison stage. "
   ]
  },
  {
   "cell_type": "markdown",
   "metadata": {},
   "source": [
    "### 2- Comparison stage"
   ]
  },
  {
   "cell_type": "markdown",
   "metadata": {},
   "source": [
    "For the comparison stage we mainly use custom comparison classes we have defined. Below is the list of classes we are using for comparison stage:\n",
    "\n",
    "* GetSimilarity: This class is used for comparing cleaned string features including title, authors, and venue using cosine similarity between the embedding vectors of the the strings in the cleaned columns of the two datasets.\n",
    "* GetYearSimilarity: This class is used for comparing year features. An exact match is evaluated between the two year columns."
   ]
  },
  {
   "cell_type": "code",
   "execution_count": 580,
   "metadata": {},
   "outputs": [],
   "source": [
    "class GetSimilarity(BaseCompareFeature):\n",
    "    def _compute_vectorized(self, s1, s2):\n",
    "        \"\"\"calculate string similarity using Spacy trained pipelines.\n",
    "        Similarity ranges from 0 to 1. \n",
    "        \"\"\"\n",
    "        s1_new = s1.apply(lambda x:nlp(x) if not pd.isnull(x) else np.nan)\n",
    "        s2_new = s2.apply(lambda x:nlp(x) if not pd.isnull(x) else np.nan)\n",
    "        both_ = (pd.concat([s1_new, s2_new], axis=1)).apply(lambda x:x[0].similarity(x[1]) if (not pd.isnull(x[0]) and not pd.isnull(x[1])) else np.nan,axis=1)\n",
    "        return both_"
   ]
  },
  {
   "cell_type": "code",
   "execution_count": 581,
   "metadata": {},
   "outputs": [],
   "source": [
    "class GetYearSimilarity(BaseCompareFeature):\n",
    "    def _compute_vectorized(self, s1, s2):\n",
    "        \"\"\"Compare publication years.\n",
    "        If the years in both records are identical, the similarity\n",
    "        is 1. Otherwise, the similarity is 0.\n",
    "        \"\"\"\n",
    "        sim = s1.copy()\n",
    "        for i in range(s1.shape[0]):\n",
    "            if not pd.isnull(s1[i]) and not pd.isnull(s2[i]) and s1[i]==s2[i]:\n",
    "                sim[i] = 1.0\n",
    "            elif not pd.isnull(s1[i]) and not pd.isnull(s2[i]) and s1[i]!=s2[i]:\n",
    "                sim[i] = 0.0\n",
    "            else:\n",
    "                sim[i] = np.nan\n",
    "\n",
    "        return sim"
   ]
  },
  {
   "cell_type": "markdown",
   "metadata": {},
   "source": [
    "Now we use these cusrtom classes to perform the comparison stage:"
   ]
  },
  {
   "cell_type": "code",
   "execution_count": 582,
   "metadata": {},
   "outputs": [],
   "source": [
    "def getComparisonFeatures(df1,df2,candidate_links):\n",
    "    \"\"\"calculate comparison features for candidate links.\n",
    "     df1 and df2: input data frames\n",
    "    candidate_links: candidate links from blocking stage\n",
    "        \n",
    "    output:\n",
    "    features: multi-indexed comparison features\n",
    "        \"\"\"\n",
    "    compare_cl = recordlinkage.Compare()\n",
    "    compare_cl.add(GetSimilarity('title_cleaned', 'title_cleaned', label='titleSim'))\n",
    "    compare_cl.add(GetSimilarity('authors_cleaned', 'authors_cleaned', label='authorSim'))\n",
    "    compare_cl.add(GetSimilarity('venue_cleaned', 'venue_cleaned', label='venueSim'))\n",
    "    compare_cl.add(GetYearSimilarity('year', 'year', label='yearSim'))\n",
    "    features = compare_cl.compute(candidate_links, df1, df2)\n",
    "    return features"
   ]
  },
  {
   "cell_type": "code",
   "execution_count": 583,
   "metadata": {
    "scrolled": false
   },
   "outputs": [
    {
     "name": "stderr",
     "output_type": "stream",
     "text": [
      "<ipython-input-580-3dc1e63246ef>:8: UserWarning: [W008] Evaluating Doc.similarity based on empty vectors.\n",
      "  both_ = (pd.concat([s1_new, s2_new], axis=1)).apply(lambda x:x[0].similarity(x[1]) if (not pd.isnull(x[0]) and not pd.isnull(x[1])) else np.nan,axis=1)\n"
     ]
    }
   ],
   "source": [
    "features = getComparisonFeatures(DBLP_cleaned_reindexed,Scholar_cleaned_reindexed,candidate_links)"
   ]
  },
  {
   "cell_type": "markdown",
   "metadata": {},
   "source": [
    "Let's see what the calculated comparison features look like:"
   ]
  },
  {
   "cell_type": "code",
   "execution_count": 584,
   "metadata": {},
   "outputs": [
    {
     "data": {
      "text/html": [
       "<div>\n",
       "<style scoped>\n",
       "    .dataframe tbody tr th:only-of-type {\n",
       "        vertical-align: middle;\n",
       "    }\n",
       "\n",
       "    .dataframe tbody tr th {\n",
       "        vertical-align: top;\n",
       "    }\n",
       "\n",
       "    .dataframe thead th {\n",
       "        text-align: right;\n",
       "    }\n",
       "</style>\n",
       "<table border=\"1\" class=\"dataframe\">\n",
       "  <thead>\n",
       "    <tr style=\"text-align: right;\">\n",
       "      <th></th>\n",
       "      <th></th>\n",
       "      <th>titleSim</th>\n",
       "      <th>authorSim</th>\n",
       "      <th>venueSim</th>\n",
       "      <th>yearSim</th>\n",
       "    </tr>\n",
       "    <tr>\n",
       "      <th>idDBLP</th>\n",
       "      <th>idScholar</th>\n",
       "      <th></th>\n",
       "      <th></th>\n",
       "      <th></th>\n",
       "      <th></th>\n",
       "    </tr>\n",
       "  </thead>\n",
       "  <tbody>\n",
       "    <tr>\n",
       "      <th rowspan=\"4\" valign=\"top\">conf/sigmod/2000</th>\n",
       "      <th>IG6ny5f3oqkJ</th>\n",
       "      <td>0.496519</td>\n",
       "      <td>0.217775</td>\n",
       "      <td>0.056868</td>\n",
       "      <td>0.0</td>\n",
       "    </tr>\n",
       "    <tr>\n",
       "      <th>PbPCf78sARsJ</th>\n",
       "      <td>0.440638</td>\n",
       "      <td>0.253300</td>\n",
       "      <td>1.000000</td>\n",
       "      <td>NaN</td>\n",
       "    </tr>\n",
       "    <tr>\n",
       "      <th>jqQgs11omKsJ</th>\n",
       "      <td>0.749702</td>\n",
       "      <td>0.450312</td>\n",
       "      <td>0.203323</td>\n",
       "      <td>NaN</td>\n",
       "    </tr>\n",
       "    <tr>\n",
       "      <th>yjssHUb2BqYJ</th>\n",
       "      <td>0.356557</td>\n",
       "      <td>1.000000</td>\n",
       "      <td>1.000000</td>\n",
       "      <td>NaN</td>\n",
       "    </tr>\n",
       "    <tr>\n",
       "      <th rowspan=\"3\" valign=\"top\">conf/sigmod/2002</th>\n",
       "      <th>IG6ny5f3oqkJ</th>\n",
       "      <td>0.517286</td>\n",
       "      <td>0.217775</td>\n",
       "      <td>0.056868</td>\n",
       "      <td>0.0</td>\n",
       "    </tr>\n",
       "    <tr>\n",
       "      <th>PbPCf78sARsJ</th>\n",
       "      <td>0.459474</td>\n",
       "      <td>0.253300</td>\n",
       "      <td>1.000000</td>\n",
       "      <td>NaN</td>\n",
       "    </tr>\n",
       "    <tr>\n",
       "      <th>yjssHUb2BqYJ</th>\n",
       "      <td>0.364165</td>\n",
       "      <td>1.000000</td>\n",
       "      <td>1.000000</td>\n",
       "      <td>NaN</td>\n",
       "    </tr>\n",
       "    <tr>\n",
       "      <th rowspan=\"4\" valign=\"top\">conf/sigmod/2003</th>\n",
       "      <th>A5xyn_tC6_wJ</th>\n",
       "      <td>0.406219</td>\n",
       "      <td>0.271913</td>\n",
       "      <td>0.045702</td>\n",
       "      <td>NaN</td>\n",
       "    </tr>\n",
       "    <tr>\n",
       "      <th>IG6ny5f3oqkJ</th>\n",
       "      <td>0.491608</td>\n",
       "      <td>0.217775</td>\n",
       "      <td>0.056868</td>\n",
       "      <td>0.0</td>\n",
       "    </tr>\n",
       "    <tr>\n",
       "      <th>PbPCf78sARsJ</th>\n",
       "      <td>0.451823</td>\n",
       "      <td>0.253300</td>\n",
       "      <td>1.000000</td>\n",
       "      <td>NaN</td>\n",
       "    </tr>\n",
       "    <tr>\n",
       "      <th>yjssHUb2BqYJ</th>\n",
       "      <td>0.349429</td>\n",
       "      <td>1.000000</td>\n",
       "      <td>1.000000</td>\n",
       "      <td>NaN</td>\n",
       "    </tr>\n",
       "    <tr>\n",
       "      <th rowspan=\"4\" valign=\"top\">conf/sigmod/AbadiC02</th>\n",
       "      <th>08ezT21wynYJ</th>\n",
       "      <td>0.425210</td>\n",
       "      <td>0.556822</td>\n",
       "      <td>0.761262</td>\n",
       "      <td>NaN</td>\n",
       "    </tr>\n",
       "    <tr>\n",
       "      <th>B03NxiJHIlMJ</th>\n",
       "      <td>0.594384</td>\n",
       "      <td>0.535330</td>\n",
       "      <td>-0.028281</td>\n",
       "      <td>NaN</td>\n",
       "    </tr>\n",
       "    <tr>\n",
       "      <th>f2Lea-RN8dsJ</th>\n",
       "      <td>1.000000</td>\n",
       "      <td>0.549529</td>\n",
       "      <td>1.000000</td>\n",
       "      <td>1.0</td>\n",
       "    </tr>\n",
       "    <tr>\n",
       "      <th>ff5EyPXrJ90J</th>\n",
       "      <td>0.557290</td>\n",
       "      <td>0.364949</td>\n",
       "      <td>-0.028281</td>\n",
       "      <td>0.0</td>\n",
       "    </tr>\n",
       "    <tr>\n",
       "      <th rowspan=\"3\" valign=\"top\">conf/sigmod/AbadiCCCCEGHMRSSTXYZ03</th>\n",
       "      <th>3rBlVqEbkbcJ</th>\n",
       "      <td>0.206419</td>\n",
       "      <td>0.791826</td>\n",
       "      <td>0.149770</td>\n",
       "      <td>0.0</td>\n",
       "    </tr>\n",
       "    <tr>\n",
       "      <th>VuY9Y49GqXgJ</th>\n",
       "      <td>1.000000</td>\n",
       "      <td>0.891649</td>\n",
       "      <td>-0.028281</td>\n",
       "      <td>NaN</td>\n",
       "    </tr>\n",
       "    <tr>\n",
       "      <th>eBnT7lhV2LwJ</th>\n",
       "      <td>0.954886</td>\n",
       "      <td>0.912384</td>\n",
       "      <td>0.685459</td>\n",
       "      <td>NaN</td>\n",
       "    </tr>\n",
       "    <tr>\n",
       "      <th rowspan=\"8\" valign=\"top\">conf/sigmod/AbiteboulBCMM03</th>\n",
       "      <th>AWT9oagMfNMJ</th>\n",
       "      <td>0.564136</td>\n",
       "      <td>0.476290</td>\n",
       "      <td>-0.028281</td>\n",
       "      <td>0.0</td>\n",
       "    </tr>\n",
       "    <tr>\n",
       "      <th>AxpQwgyRyLgJ</th>\n",
       "      <td>0.960545</td>\n",
       "      <td>0.916024</td>\n",
       "      <td>0.175593</td>\n",
       "      <td>NaN</td>\n",
       "    </tr>\n",
       "    <tr>\n",
       "      <th>OJ7dAFJgnwgJ</th>\n",
       "      <td>0.489361</td>\n",
       "      <td>0.371760</td>\n",
       "      <td>-0.028281</td>\n",
       "      <td>NaN</td>\n",
       "    </tr>\n",
       "    <tr>\n",
       "      <th>Rjb06zlxbLIJ</th>\n",
       "      <td>1.000000</td>\n",
       "      <td>0.916024</td>\n",
       "      <td>1.000000</td>\n",
       "      <td>1.0</td>\n",
       "    </tr>\n",
       "    <tr>\n",
       "      <th>S1rzR4Imj8EJ</th>\n",
       "      <td>0.533770</td>\n",
       "      <td>0.476290</td>\n",
       "      <td>0.651813</td>\n",
       "      <td>NaN</td>\n",
       "    </tr>\n",
       "    <tr>\n",
       "      <th>VJVukBz-cOMJ</th>\n",
       "      <td>0.345765</td>\n",
       "      <td>0.476290</td>\n",
       "      <td>0.258873</td>\n",
       "      <td>NaN</td>\n",
       "    </tr>\n",
       "    <tr>\n",
       "      <th>WXXoydxzOOMJ</th>\n",
       "      <td>0.332502</td>\n",
       "      <td>0.476290</td>\n",
       "      <td>0.710467</td>\n",
       "      <td>NaN</td>\n",
       "    </tr>\n",
       "    <tr>\n",
       "      <th>iz8I017svR8J</th>\n",
       "      <td>0.717178</td>\n",
       "      <td>0.745588</td>\n",
       "      <td>0.316773</td>\n",
       "      <td>NaN</td>\n",
       "    </tr>\n",
       "    <tr>\n",
       "      <th rowspan=\"4\" valign=\"top\">conf/sigmod/AbiteboulCM95</th>\n",
       "      <th>18_r28t9ICYJ</th>\n",
       "      <td>0.413000</td>\n",
       "      <td>0.737718</td>\n",
       "      <td>0.327926</td>\n",
       "      <td>0.0</td>\n",
       "    </tr>\n",
       "    <tr>\n",
       "      <th>4GT0Krd9RP0J</th>\n",
       "      <td>0.872527</td>\n",
       "      <td>1.000000</td>\n",
       "      <td>0.000000</td>\n",
       "      <td>NaN</td>\n",
       "    </tr>\n",
       "    <tr>\n",
       "      <th>DakOA4Ew-poJ</th>\n",
       "      <td>0.977388</td>\n",
       "      <td>1.000000</td>\n",
       "      <td>0.651813</td>\n",
       "      <td>NaN</td>\n",
       "    </tr>\n",
       "    <tr>\n",
       "      <th>N14PBymOIIQJ</th>\n",
       "      <td>0.569396</td>\n",
       "      <td>0.825177</td>\n",
       "      <td>0.271377</td>\n",
       "      <td>0.0</td>\n",
       "    </tr>\n",
       "  </tbody>\n",
       "</table>\n",
       "</div>"
      ],
      "text/plain": [
       "                                                 titleSim  authorSim  \\\n",
       "idDBLP                             idScholar                           \n",
       "conf/sigmod/2000                   IG6ny5f3oqkJ  0.496519   0.217775   \n",
       "                                   PbPCf78sARsJ  0.440638   0.253300   \n",
       "                                   jqQgs11omKsJ  0.749702   0.450312   \n",
       "                                   yjssHUb2BqYJ  0.356557   1.000000   \n",
       "conf/sigmod/2002                   IG6ny5f3oqkJ  0.517286   0.217775   \n",
       "                                   PbPCf78sARsJ  0.459474   0.253300   \n",
       "                                   yjssHUb2BqYJ  0.364165   1.000000   \n",
       "conf/sigmod/2003                   A5xyn_tC6_wJ  0.406219   0.271913   \n",
       "                                   IG6ny5f3oqkJ  0.491608   0.217775   \n",
       "                                   PbPCf78sARsJ  0.451823   0.253300   \n",
       "                                   yjssHUb2BqYJ  0.349429   1.000000   \n",
       "conf/sigmod/AbadiC02               08ezT21wynYJ  0.425210   0.556822   \n",
       "                                   B03NxiJHIlMJ  0.594384   0.535330   \n",
       "                                   f2Lea-RN8dsJ  1.000000   0.549529   \n",
       "                                   ff5EyPXrJ90J  0.557290   0.364949   \n",
       "conf/sigmod/AbadiCCCCEGHMRSSTXYZ03 3rBlVqEbkbcJ  0.206419   0.791826   \n",
       "                                   VuY9Y49GqXgJ  1.000000   0.891649   \n",
       "                                   eBnT7lhV2LwJ  0.954886   0.912384   \n",
       "conf/sigmod/AbiteboulBCMM03        AWT9oagMfNMJ  0.564136   0.476290   \n",
       "                                   AxpQwgyRyLgJ  0.960545   0.916024   \n",
       "                                   OJ7dAFJgnwgJ  0.489361   0.371760   \n",
       "                                   Rjb06zlxbLIJ  1.000000   0.916024   \n",
       "                                   S1rzR4Imj8EJ  0.533770   0.476290   \n",
       "                                   VJVukBz-cOMJ  0.345765   0.476290   \n",
       "                                   WXXoydxzOOMJ  0.332502   0.476290   \n",
       "                                   iz8I017svR8J  0.717178   0.745588   \n",
       "conf/sigmod/AbiteboulCM95          18_r28t9ICYJ  0.413000   0.737718   \n",
       "                                   4GT0Krd9RP0J  0.872527   1.000000   \n",
       "                                   DakOA4Ew-poJ  0.977388   1.000000   \n",
       "                                   N14PBymOIIQJ  0.569396   0.825177   \n",
       "\n",
       "                                                 venueSim  yearSim  \n",
       "idDBLP                             idScholar                        \n",
       "conf/sigmod/2000                   IG6ny5f3oqkJ  0.056868      0.0  \n",
       "                                   PbPCf78sARsJ  1.000000      NaN  \n",
       "                                   jqQgs11omKsJ  0.203323      NaN  \n",
       "                                   yjssHUb2BqYJ  1.000000      NaN  \n",
       "conf/sigmod/2002                   IG6ny5f3oqkJ  0.056868      0.0  \n",
       "                                   PbPCf78sARsJ  1.000000      NaN  \n",
       "                                   yjssHUb2BqYJ  1.000000      NaN  \n",
       "conf/sigmod/2003                   A5xyn_tC6_wJ  0.045702      NaN  \n",
       "                                   IG6ny5f3oqkJ  0.056868      0.0  \n",
       "                                   PbPCf78sARsJ  1.000000      NaN  \n",
       "                                   yjssHUb2BqYJ  1.000000      NaN  \n",
       "conf/sigmod/AbadiC02               08ezT21wynYJ  0.761262      NaN  \n",
       "                                   B03NxiJHIlMJ -0.028281      NaN  \n",
       "                                   f2Lea-RN8dsJ  1.000000      1.0  \n",
       "                                   ff5EyPXrJ90J -0.028281      0.0  \n",
       "conf/sigmod/AbadiCCCCEGHMRSSTXYZ03 3rBlVqEbkbcJ  0.149770      0.0  \n",
       "                                   VuY9Y49GqXgJ -0.028281      NaN  \n",
       "                                   eBnT7lhV2LwJ  0.685459      NaN  \n",
       "conf/sigmod/AbiteboulBCMM03        AWT9oagMfNMJ -0.028281      0.0  \n",
       "                                   AxpQwgyRyLgJ  0.175593      NaN  \n",
       "                                   OJ7dAFJgnwgJ -0.028281      NaN  \n",
       "                                   Rjb06zlxbLIJ  1.000000      1.0  \n",
       "                                   S1rzR4Imj8EJ  0.651813      NaN  \n",
       "                                   VJVukBz-cOMJ  0.258873      NaN  \n",
       "                                   WXXoydxzOOMJ  0.710467      NaN  \n",
       "                                   iz8I017svR8J  0.316773      NaN  \n",
       "conf/sigmod/AbiteboulCM95          18_r28t9ICYJ  0.327926      0.0  \n",
       "                                   4GT0Krd9RP0J  0.000000      NaN  \n",
       "                                   DakOA4Ew-poJ  0.651813      NaN  \n",
       "                                   N14PBymOIIQJ  0.271377      0.0  "
      ]
     },
     "execution_count": 584,
     "metadata": {},
     "output_type": "execute_result"
    }
   ],
   "source": [
    "features.head(30)"
   ]
  },
  {
   "cell_type": "markdown",
   "metadata": {},
   "source": [
    "### 3- Matching stage"
   ]
  },
  {
   "cell_type": "markdown",
   "metadata": {},
   "source": [
    "Finally using the calculated features we try to find the rows that represent matching records. There are many ways to threshold the combined set of features calculated to find matches. Here we only do a simple one where we seach for rows where title similarity is above 0.8 and the author similarity and venue similarity are above 0.6. "
   ]
  },
  {
   "cell_type": "code",
   "execution_count": 585,
   "metadata": {
    "scrolled": false
   },
   "outputs": [
    {
     "data": {
      "text/html": [
       "<div>\n",
       "<style scoped>\n",
       "    .dataframe tbody tr th:only-of-type {\n",
       "        vertical-align: middle;\n",
       "    }\n",
       "\n",
       "    .dataframe tbody tr th {\n",
       "        vertical-align: top;\n",
       "    }\n",
       "\n",
       "    .dataframe thead th {\n",
       "        text-align: right;\n",
       "    }\n",
       "</style>\n",
       "<table border=\"1\" class=\"dataframe\">\n",
       "  <thead>\n",
       "    <tr style=\"text-align: right;\">\n",
       "      <th></th>\n",
       "      <th></th>\n",
       "      <th>titleSim</th>\n",
       "      <th>authorSim</th>\n",
       "      <th>venueSim</th>\n",
       "      <th>yearSim</th>\n",
       "    </tr>\n",
       "    <tr>\n",
       "      <th>idDBLP</th>\n",
       "      <th>idScholar</th>\n",
       "      <th></th>\n",
       "      <th></th>\n",
       "      <th></th>\n",
       "      <th></th>\n",
       "    </tr>\n",
       "  </thead>\n",
       "  <tbody>\n",
       "    <tr>\n",
       "      <th>conf/sigmod/AbiteboulBCMM03</th>\n",
       "      <th>Rjb06zlxbLIJ</th>\n",
       "      <td>1.000000</td>\n",
       "      <td>0.916024</td>\n",
       "      <td>1.000000</td>\n",
       "      <td>1.0</td>\n",
       "    </tr>\n",
       "    <tr>\n",
       "      <th>conf/sigmod/AbiteboulCM95</th>\n",
       "      <th>cu9DXtjeF24J</th>\n",
       "      <td>0.945408</td>\n",
       "      <td>1.000000</td>\n",
       "      <td>0.694555</td>\n",
       "      <td>1.0</td>\n",
       "    </tr>\n",
       "    <tr>\n",
       "      <th>conf/sigmod/AboulnagaC99</th>\n",
       "      <th>WWaxLMIptTMJ</th>\n",
       "      <td>1.000000</td>\n",
       "      <td>1.000000</td>\n",
       "      <td>1.000000</td>\n",
       "      <td>1.0</td>\n",
       "    </tr>\n",
       "    <tr>\n",
       "      <th>conf/sigmod/AcharyaAFZ95</th>\n",
       "      <th>rO4-yA3tlfoJ</th>\n",
       "      <td>1.000000</td>\n",
       "      <td>1.000000</td>\n",
       "      <td>1.000000</td>\n",
       "      <td>1.0</td>\n",
       "    </tr>\n",
       "    <tr>\n",
       "      <th>conf/sigmod/AcharyaFZ97</th>\n",
       "      <th>9OEjtHuRUzsJ</th>\n",
       "      <td>1.000000</td>\n",
       "      <td>1.000000</td>\n",
       "      <td>1.000000</td>\n",
       "      <td>1.0</td>\n",
       "    </tr>\n",
       "  </tbody>\n",
       "</table>\n",
       "</div>"
      ],
      "text/plain": [
       "                                          titleSim  authorSim  venueSim  \\\n",
       "idDBLP                      idScholar                                     \n",
       "conf/sigmod/AbiteboulBCMM03 Rjb06zlxbLIJ  1.000000   0.916024  1.000000   \n",
       "conf/sigmod/AbiteboulCM95   cu9DXtjeF24J  0.945408   1.000000  0.694555   \n",
       "conf/sigmod/AboulnagaC99    WWaxLMIptTMJ  1.000000   1.000000  1.000000   \n",
       "conf/sigmod/AcharyaAFZ95    rO4-yA3tlfoJ  1.000000   1.000000  1.000000   \n",
       "conf/sigmod/AcharyaFZ97     9OEjtHuRUzsJ  1.000000   1.000000  1.000000   \n",
       "\n",
       "                                          yearSim  \n",
       "idDBLP                      idScholar              \n",
       "conf/sigmod/AbiteboulBCMM03 Rjb06zlxbLIJ      1.0  \n",
       "conf/sigmod/AbiteboulCM95   cu9DXtjeF24J      1.0  \n",
       "conf/sigmod/AboulnagaC99    WWaxLMIptTMJ      1.0  \n",
       "conf/sigmod/AcharyaAFZ95    rO4-yA3tlfoJ      1.0  \n",
       "conf/sigmod/AcharyaFZ97     9OEjtHuRUzsJ      1.0  "
      ]
     },
     "execution_count": 585,
     "metadata": {},
     "output_type": "execute_result"
    }
   ],
   "source": [
    "result = features[(features['titleSim']>0.8) & (features['authorSim']>0.6) & (features['yearSim']>0.6)]\n",
    "result.head()"
   ]
  },
  {
   "cell_type": "code",
   "execution_count": 586,
   "metadata": {
    "scrolled": true
   },
   "outputs": [
    {
     "data": {
      "text/html": [
       "<div>\n",
       "<style scoped>\n",
       "    .dataframe tbody tr th:only-of-type {\n",
       "        vertical-align: middle;\n",
       "    }\n",
       "\n",
       "    .dataframe tbody tr th {\n",
       "        vertical-align: top;\n",
       "    }\n",
       "\n",
       "    .dataframe thead th {\n",
       "        text-align: right;\n",
       "    }\n",
       "</style>\n",
       "<table border=\"1\" class=\"dataframe\">\n",
       "  <thead>\n",
       "    <tr style=\"text-align: right;\">\n",
       "      <th></th>\n",
       "      <th>idDBLP</th>\n",
       "      <th>idScholar</th>\n",
       "      <th>DBLP_Match</th>\n",
       "      <th>Scholar_Match</th>\n",
       "      <th>Match_ID</th>\n",
       "    </tr>\n",
       "  </thead>\n",
       "  <tbody>\n",
       "    <tr>\n",
       "      <th>0</th>\n",
       "      <td>conf/sigmod/PengC03</td>\n",
       "      <td>-2JURbcl_AwJ</td>\n",
       "      <td>364</td>\n",
       "      <td>32176</td>\n",
       "      <td>364_32176</td>\n",
       "    </tr>\n",
       "    <tr>\n",
       "      <th>1</th>\n",
       "      <td>conf/vldb/AcharyaGP99</td>\n",
       "      <td>-7tsGpHin24J</td>\n",
       "      <td>1459</td>\n",
       "      <td>45718</td>\n",
       "      <td>1459_45718</td>\n",
       "    </tr>\n",
       "    <tr>\n",
       "      <th>2</th>\n",
       "      <td>conf/vldb/AmsalegFG95</td>\n",
       "      <td>-9bXTTM_M4cJ</td>\n",
       "      <td>1923</td>\n",
       "      <td>13600</td>\n",
       "      <td>1923_13600</td>\n",
       "    </tr>\n",
       "    <tr>\n",
       "      <th>3</th>\n",
       "      <td>conf/vldb/UrhanF01</td>\n",
       "      <td>0-FUXURm1FQJ</td>\n",
       "      <td>1104</td>\n",
       "      <td>48584</td>\n",
       "      <td>1104_48584</td>\n",
       "    </tr>\n",
       "    <tr>\n",
       "      <th>4</th>\n",
       "      <td>conf/vldb/SrivastavaDJL96</td>\n",
       "      <td>01ZVDudF4WAJ</td>\n",
       "      <td>1801</td>\n",
       "      <td>28537</td>\n",
       "      <td>1801_28537</td>\n",
       "    </tr>\n",
       "  </tbody>\n",
       "</table>\n",
       "</div>"
      ],
      "text/plain": [
       "                      idDBLP     idScholar  DBLP_Match  Scholar_Match  \\\n",
       "0        conf/sigmod/PengC03  -2JURbcl_AwJ         364          32176   \n",
       "1      conf/vldb/AcharyaGP99  -7tsGpHin24J        1459          45718   \n",
       "2      conf/vldb/AmsalegFG95  -9bXTTM_M4cJ        1923          13600   \n",
       "3         conf/vldb/UrhanF01  0-FUXURm1FQJ        1104          48584   \n",
       "4  conf/vldb/SrivastavaDJL96  01ZVDudF4WAJ        1801          28537   \n",
       "\n",
       "     Match_ID  \n",
       "0   364_32176  \n",
       "1  1459_45718  \n",
       "2  1923_13600  \n",
       "3  1104_48584  \n",
       "4  1801_28537  "
      ]
     },
     "execution_count": 586,
     "metadata": {},
     "output_type": "execute_result"
    }
   ],
   "source": [
    "result_reset = result.reset_index(level=['idDBLP','idScholar'])\n",
    "result_reset = result_reset.loc[resul_rest.groupby([\"idDBLP\"])[\"titleSim\"].idxmax()] \n",
    "result_reset = result_reset.reset_index(drop=True)\n",
    "result_reset = result_reset.loc[result_reset.groupby([\"idScholar\"])[\"titleSim\"].idxmax()] \n",
    "out1 = result_reset.merge(DBLP_cleaned)\n",
    "out1 = out1[['idDBLP','idScholar','row_id']]\n",
    "out1.rename(columns={'row_id':'DBLP_Match'},inplace=True)\n",
    "out2 = out1.merge(Scholar_cleaned)\n",
    "out2 = out2[['idDBLP','idScholar','DBLP_Match','row_id']]\n",
    "out2.rename(columns={'row_id':'Scholar_Match'},inplace=True)\n",
    "out2['Match_ID'] = out2[['DBLP_Match','Scholar_Match']].astype(str).apply('_'.join, 1)\n",
    "out2.head()"
   ]
  },
  {
   "cell_type": "markdown",
   "metadata": {},
   "source": [
    "Now we save the result as a csv file named DBLP_Scholar_perfectMapping_YoonesVaezi.csv in a directory called outDir."
   ]
  },
  {
   "cell_type": "code",
   "execution_count": 587,
   "metadata": {},
   "outputs": [],
   "source": [
    "outDir = './outDir'\n",
    "if not os.path.exists(outDir):\n",
    "    os.makedirs(outDir)\n",
    "out2.to_csv(os.path.join(outDir,'DBLP_Scholar_perfectMapping_YoonesVaezi.csv'),index=False)"
   ]
  },
  {
   "cell_type": "code",
   "execution_count": 588,
   "metadata": {},
   "outputs": [
    {
     "data": {
      "text/plain": [
       "1814"
      ]
     },
     "execution_count": 588,
     "metadata": {},
     "output_type": "execute_result"
    }
   ],
   "source": [
    "len(out2['idScholar'].unique())"
   ]
  },
  {
   "cell_type": "markdown",
   "metadata": {},
   "source": [
    "So there are 1814 unique matching rows between the two datasets. Done!"
   ]
  },
  {
   "cell_type": "code",
   "execution_count": null,
   "metadata": {},
   "outputs": [],
   "source": []
  }
 ],
 "metadata": {
  "kernelspec": {
   "display_name": "py3.8",
   "language": "python",
   "name": "py3.8"
  },
  "language_info": {
   "codemirror_mode": {
    "name": "ipython",
    "version": 3
   },
   "file_extension": ".py",
   "mimetype": "text/x-python",
   "name": "python",
   "nbconvert_exporter": "python",
   "pygments_lexer": "ipython3",
   "version": "3.8.5"
  }
 },
 "nbformat": 4,
 "nbformat_minor": 4
}
